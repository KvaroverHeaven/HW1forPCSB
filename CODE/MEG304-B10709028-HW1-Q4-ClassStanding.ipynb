{
 "cells": [
  {
   "cell_type": "code",
   "execution_count": 1,
   "metadata": {},
   "outputs": [],
   "source": [
    "def classStanding(credits: int):\n",
    "    if 0 <= credits < 7:\n",
    "        return \"Freshman\"\n",
    "    elif 7 <= credits < 16:\n",
    "        return \"Sophomore\"\n",
    "    elif 16 <= credits < 26:\n",
    "        return \"Junior\"\n",
    "    elif credits >= 26:\n",
    "        return \"Senior\""
   ]
  },
  {
   "cell_type": "code",
   "execution_count": 2,
   "metadata": {},
   "outputs": [],
   "source": [
    "def evalClassStanding():\n",
    "    try:\n",
    "        c: int = int(input(\"Enter your number of credits: \"))\n",
    "    except ValueError:\n",
    "        print(\"That's not a credit!\")\n",
    "    print(f\"You are a {classStanding(c)}\")"
   ]
  },
  {
   "cell_type": "code",
   "execution_count": 3,
   "metadata": {},
   "outputs": [
    {
     "name": "stdout",
     "output_type": "stream",
     "text": [
      "Enter your number of credits: 5\n",
      "You are a Freshman\n",
      "Enter your number of credits: 8\n",
      "You are a Sophomore\n",
      "Enter your number of credits: 18\n",
      "You are a Junior\n",
      "Enter your number of credits: 40\n",
      "You are a Senior\n",
      "Enter your number of credits: -40\n",
      "You are a None\n"
     ]
    },
    {
     "data": {
      "text/plain": [
       "[None, None, None, None, None]"
      ]
     },
     "execution_count": 3,
     "metadata": {},
     "output_type": "execute_result"
    }
   ],
   "source": [
    "[evalClassStanding() for i in range(5)]"
   ]
  }
 ],
 "metadata": {
  "kernelspec": {
   "display_name": "Python 3",
   "language": "python",
   "name": "python3"
  },
  "language_info": {
   "codemirror_mode": {
    "name": "ipython",
    "version": 3
   },
   "file_extension": ".py",
   "mimetype": "text/x-python",
   "name": "python",
   "nbconvert_exporter": "python",
   "pygments_lexer": "ipython3",
   "version": "3.9.5"
  }
 },
 "nbformat": 4,
 "nbformat_minor": 2
}
