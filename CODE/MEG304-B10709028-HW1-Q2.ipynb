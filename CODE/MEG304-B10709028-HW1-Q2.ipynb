{
 "cells": [
  {
   "cell_type": "code",
   "execution_count": null,
   "id": "tracked-burst",
   "metadata": {},
   "outputs": [],
   "source": [
    "# Python program to print all primes smaller than or equal to\n",
    "# n using Sieve of Eratosthenes\n",
    "\n",
    "def SieveOfEratosthenes(n):\n",
    "\n",
    "    # Create a boolean array \"prime[0..n]\" and initialize\n",
    "    # all entries it as true. A value in prime[i] will\n",
    "    # finally be false if i is Not a prime, else true.\n",
    "    prime = [True for i in range(n + 1)]\n",
    "    p = 2\n",
    "\n",
    "    while (p * p <= n):\n",
    "\n",
    "        # If prime [p] is not changed, then it is a prime\n",
    "        if (prime[p] == True):\n",
    "\n",
    "            # Update all multiples of p\n",
    "            for i in range(p * 2, n + 1, p):\n",
    "                prime[i] = False\n",
    "        p += 1\n",
    "    prime[0] = False\n",
    "    prime[1] = False\n",
    "\n",
    "    # Print all prime numbers\n",
    "    for p in range(n + 1):\n",
    "        if prime[p]:\n",
    "            print(p, end=\" \")"
   ]
  },
  {
   "cell_type": "code",
   "execution_count": null,
   "id": "ready-communist",
   "metadata": {},
   "outputs": [],
   "source": [
    "# driver program\n",
    "n = 30\n",
    "print(f\"Following are the prime numbers smaller than or equal to {n}\")\n",
    "SieveOfEratosthenes(n)"
   ]
  },
  {
   "cell_type": "code",
   "execution_count": null,
   "id": "driving-history",
   "metadata": {},
   "outputs": [],
   "source": [
    "# driver program\n",
    "n = 45\n",
    "print(f\"Following are the prime numbers smaller than or equal to {n}\")\n",
    "SieveOfEratosthenes(n)"
   ]
  },
  {
   "cell_type": "code",
   "execution_count": null,
   "id": "enclosed-transmission",
   "metadata": {},
   "outputs": [],
   "source": [
    "# driver program\n",
    "n = 111\n",
    "print(f\"Following are the prime numbers smaller than or equal to {n}\")\n",
    "SieveOfEratosthenes(n)"
   ]
  }
 ],
 "metadata": {
  "kernelspec": {
   "display_name": "Python 3",
   "language": "python",
   "name": "python3"
  },
  "language_info": {
   "codemirror_mode": {
    "name": "ipython",
    "version": 3
   },
   "file_extension": ".py",
   "mimetype": "text/x-python",
   "name": "python",
   "nbconvert_exporter": "python",
   "pygments_lexer": "ipython3",
   "version": "3.9.5"
  }
 },
 "nbformat": 4,
 "nbformat_minor": 5
}
