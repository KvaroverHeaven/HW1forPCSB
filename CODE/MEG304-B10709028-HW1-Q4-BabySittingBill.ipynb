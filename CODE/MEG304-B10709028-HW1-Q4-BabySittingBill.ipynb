{
 "cells": [
  {
   "cell_type": "code",
   "execution_count": 10,
   "metadata": {},
   "outputs": [],
   "source": [
    "def babysittingBill(sTime: float, eTime: float):\n",
    "    # Ending time can go up to 24. Afterwards, it becomes a new day with a new bill.\n",
    "    if (eTime < 0 or eTime > 24\n",
    "            or sTime < 0 or sTime > 24):\n",
    "        print(\"Ending and starting times shall be between 0 and 24.\")\n",
    "        return -1\n",
    "\n",
    "    if eTime < sTime:\n",
    "        print(\"Ending time cannot be less than starting time!\")\n",
    "        return -1\n",
    "\n",
    "    if eTime <= 21:\n",
    "        total_bill = (eTime - sTime) * 2.5\n",
    "    else:\n",
    "        total_bill = ((eTime - 21) * 1.75) + ((21 - sTime) * 2.5)\n",
    "\n",
    "    return total_bill"
   ]
  },
  {
   "cell_type": "code",
   "execution_count": 11,
   "metadata": {},
   "outputs": [],
   "source": [
    "def evalBabysittingBill():\n",
    "    st: float = float(input(\"Enter your starting time: \"))\n",
    "    et: float = float(input(\"Enter your ending time: \"))\n",
    "\n",
    "    if ((type(st) is float) and\n",
    "            (type(et) is float)):\n",
    "        bill = babysittingBill(st, et)\n",
    "        if bill != -1:\n",
    "            print(f\"The total babysitting bill = ${bill:.3f}\")\n",
    "    else:\n",
    "        print(\"You can only enter numerics!\")"
   ]
  },
  {
   "cell_type": "code",
   "execution_count": 12,
   "metadata": {},
   "outputs": [
    {
     "name": "stdout",
     "output_type": "stream",
     "text": [
      "Enter your starting time: 10\n",
      "Enter your ending time: 16\n",
      "The total babysitting bill = $15.000\n",
      "Enter your starting time: 13.6\n",
      "Enter your ending time: 22.7\n",
      "The total babysitting bill = $21.475\n",
      "Enter your starting time: 21\n",
      "Enter your ending time: 23\n",
      "The total babysitting bill = $3.500\n",
      "Enter your starting time: -4\n",
      "Enter your ending time: 20\n",
      "Ending and starting times shall be between 0 and 24.\n",
      "Enter your starting time: 22\n",
      "Enter your ending time: 17\n",
      "Ending time cannot be less than starting time!\n",
      "Enter your starting time: 15\n",
      "Enter your ending time: 26\n",
      "Ending and starting times shall be between 0 and 24.\n"
     ]
    },
    {
     "data": {
      "text/plain": [
       "[None, None, None, None, None, None]"
      ]
     },
     "execution_count": 12,
     "metadata": {},
     "output_type": "execute_result"
    }
   ],
   "source": [
    "[evalBabysittingBill() for i in range(6)]"
   ]
  }
 ],
 "metadata": {
  "kernelspec": {
   "display_name": "Python 3",
   "language": "python",
   "name": "python3"
  },
  "language_info": {
   "codemirror_mode": {
    "name": "ipython",
    "version": 3
   },
   "file_extension": ".py",
   "mimetype": "text/x-python",
   "name": "python",
   "nbconvert_exporter": "python",
   "pygments_lexer": "ipython3",
   "version": "3.9.5"
  }
 },
 "nbformat": 4,
 "nbformat_minor": 2
}
